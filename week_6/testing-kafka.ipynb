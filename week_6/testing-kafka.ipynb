{
 "cells": [
  {
   "cell_type": "code",
   "execution_count": 1,
   "id": "5f0bf5c2",
   "metadata": {},
   "outputs": [
    {
     "name": "stdout",
     "output_type": "stream",
     "text": [
      "Requirement already satisfied: kafka-python in /usr/local/lib/python3.9/site-packages (1.4.7)\n",
      "\u001b[33mWARNING: Running pip as the 'root' user can result in broken permissions and conflicting behaviour with the system package manager. It is recommended to use a virtual environment instead: https://pip.pypa.io/warnings/venv\u001b[0m\u001b[33m\n",
      "\u001b[0m"
     ]
    }
   ],
   "source": [
    "!pip install kafka-python"
   ]
  },
  {
   "cell_type": "markdown",
   "id": "6d3b1c1c",
   "metadata": {},
   "source": [
    "# Create topic in Kafka"
   ]
  },
  {
   "cell_type": "markdown",
   "id": "1e116b22",
   "metadata": {},
   "source": [
    "In terminal:\n",
    "```\n",
    "docker exec broker \\\n",
    "kafka-topics --bootstrap-server broker:9092 \\\n",
    "             --create \\\n",
    "             --topic ny_taxi_rides \\\n",
    "             --config delete.retention.ms=60000\n",
    "```\n",
    "\n",
    "Result:\n",
    "\n",
    "```\n",
    "WARNING: Due to limitations in metric names, topics with a period ('.') or underscore ('_') could collide. To avoid issues it is best to use either, but not both.\n",
    "Created topic ny_taxi_rides.\n",
    "```"
   ]
  },
  {
   "cell_type": "markdown",
   "id": "14f02d2f",
   "metadata": {},
   "source": [
    "## Delete topic\n",
    "\n",
    "```\n",
    "docker exec broker \\\n",
    "kafka-topics --bootstrap-server broker:9092 \\\n",
    "             --delete \\\n",
    "             --topic ny_taxi_rides\n",
    "```"
   ]
  },
  {
   "cell_type": "code",
   "execution_count": 1,
   "id": "2ed7c194",
   "metadata": {},
   "outputs": [],
   "source": [
    "topic = 'ny_taxi_rides'"
   ]
  },
  {
   "cell_type": "code",
   "execution_count": 2,
   "id": "e5a9b008",
   "metadata": {
    "scrolled": true
   },
   "outputs": [
    {
     "name": "stdout",
     "output_type": "stream",
     "text": [
      "kafka-python             1.4.7\r\n",
      "robinhood-aiokafka       1.1.6\r\n"
     ]
    }
   ],
   "source": [
    "!pip list | grep kafka"
   ]
  },
  {
   "cell_type": "code",
   "execution_count": 3,
   "id": "c72d77eb",
   "metadata": {},
   "outputs": [],
   "source": [
    "BOOTSTRAP_SERVERS = ['localhost:9092']"
   ]
  },
  {
   "cell_type": "code",
   "execution_count": 63,
   "id": "3b9a54c0",
   "metadata": {},
   "outputs": [],
   "source": [
    "import logging\n",
    "\n",
    "# log_level = logging.DEBUG\n",
    "# logging.basicConfig(level=log_level)\n",
    "# log = logging.getLogger('kafka')\n",
    "#log.setLevel(log_level)"
   ]
  },
  {
   "cell_type": "markdown",
   "id": "6bea03ab",
   "metadata": {},
   "source": [
    "# Write to topic"
   ]
  },
  {
   "cell_type": "code",
   "execution_count": 17,
   "id": "02d0b627",
   "metadata": {},
   "outputs": [],
   "source": [
    "import json\n",
    "from kafka import KafkaProducer\n",
    "from kafka.errors import KafkaTimeoutError"
   ]
  },
  {
   "cell_type": "code",
   "execution_count": 18,
   "id": "e93e9c6e",
   "metadata": {},
   "outputs": [],
   "source": [
    "producer = KafkaProducer(\n",
    "    bootstrap_servers=BOOTSTRAP_SERVERS,\n",
    "    key_serializer=lambda key: str(key).encode(),\n",
    "    value_serializer=lambda x: json.dumps(x, default=str).encode('utf-8')\n",
    ")"
   ]
  },
  {
   "cell_type": "code",
   "execution_count": 19,
   "id": "20f75e42",
   "metadata": {},
   "outputs": [
    {
     "name": "stdout",
     "output_type": "stream",
     "text": [
      "Record 1 successfully produced at offset 0\n"
     ]
    }
   ],
   "source": [
    "messages = [\n",
    "    {'key': 1, 'value': {'foo': 'bar'}}\n",
    "]\n",
    "\n",
    "for message in messages:\n",
    "    try:\n",
    "        record = producer.send(topic=topic, key=message['key'], value=message['value'])\n",
    "        print('Record {} successfully produced at offset {}'.format(message['key'], record.get().offset))\n",
    "    except KafkaTimeoutError as e:\n",
    "        print(e.__str__())"
   ]
  },
  {
   "cell_type": "code",
   "execution_count": null,
   "id": "ad7a9a09",
   "metadata": {},
   "outputs": [],
   "source": []
  },
  {
   "cell_type": "markdown",
   "id": "bf7e4b4a",
   "metadata": {},
   "source": [
    "# Read messages from topic"
   ]
  },
  {
   "cell_type": "code",
   "execution_count": 20,
   "id": "b63cb56e",
   "metadata": {},
   "outputs": [],
   "source": [
    "from kafka import KafkaConsumer"
   ]
  },
  {
   "cell_type": "code",
   "execution_count": 28,
   "id": "c12e58fe",
   "metadata": {},
   "outputs": [],
   "source": [
    "consumer = KafkaConsumer(\n",
    "    topic, \n",
    "    bootstrap_servers=BOOTSTRAP_SERVERS,\n",
    "    auto_offset_reset='earliest',\n",
    "    enable_auto_commit=True,\n",
    "    key_deserializer=lambda key: int(key.decode('utf-8')),\n",
    "    value_deserializer=lambda x: json.loads(x.decode('utf-8')),\n",
    "    group_id='group-id-0',\n",
    ")"
   ]
  },
  {
   "cell_type": "code",
   "execution_count": 29,
   "id": "1dace6de",
   "metadata": {},
   "outputs": [
    {
     "data": {
      "text/plain": [
       "{'ny_taxi_rides'}"
      ]
     },
     "execution_count": 29,
     "metadata": {},
     "output_type": "execute_result"
    }
   ],
   "source": [
    "consumer.topics()"
   ]
  },
  {
   "cell_type": "code",
   "execution_count": 30,
   "id": "aba606fe",
   "metadata": {},
   "outputs": [
    {
     "data": {
      "text/plain": [
       "True"
      ]
     },
     "execution_count": 30,
     "metadata": {},
     "output_type": "execute_result"
    }
   ],
   "source": [
    "consumer.bootstrap_connected()"
   ]
  },
  {
   "cell_type": "code",
   "execution_count": 31,
   "id": "90e8ced3",
   "metadata": {},
   "outputs": [
    {
     "data": {
      "text/plain": [
       "{0}"
      ]
     },
     "execution_count": 31,
     "metadata": {},
     "output_type": "execute_result"
    }
   ],
   "source": [
    "consumer.partitions_for_topic(topic)"
   ]
  },
  {
   "cell_type": "code",
   "execution_count": 32,
   "id": "ad35b374",
   "metadata": {},
   "outputs": [
    {
     "data": {
      "text/plain": [
       "{'ny_taxi_rides'}"
      ]
     },
     "execution_count": 32,
     "metadata": {},
     "output_type": "execute_result"
    }
   ],
   "source": [
    "consumer.subscription()"
   ]
  },
  {
   "cell_type": "code",
   "execution_count": 37,
   "id": "f44797f8",
   "metadata": {},
   "outputs": [],
   "source": [
    "def consume_from_kafka(consumer, topic: str):\n",
    "    consumer.subscribe(topic)\n",
    "    print('Available topics to consume: ', consumer.subscription())\n",
    "    while True:\n",
    "        try:\n",
    "            # SIGINT can't be handled when polling, limit timeout to 1 second.\n",
    "            message = consumer.poll(1.0)\n",
    "            if message is None or message == {}:\n",
    "                continue\n",
    "            for message_key, message_value in message.items():\n",
    "                for msg_val in message_value:\n",
    "                    print(msg_val.key, msg_val.value)\n",
    "        except KeyboardInterrupt:\n",
    "            break\n",
    "\n",
    "    consumer.close()"
   ]
  },
  {
   "cell_type": "code",
   "execution_count": 38,
   "id": "57ebc1b9",
   "metadata": {},
   "outputs": [
    {
     "name": "stdout",
     "output_type": "stream",
     "text": [
      "Consuming from Kafka started\n",
      "Available topics to consume:  {'ny_taxi_rides'}\n",
      "1 {'foo': 'bar'}\n"
     ]
    }
   ],
   "source": [
    "consume_from_kafka(consumer, topic)"
   ]
  },
  {
   "cell_type": "code",
   "execution_count": null,
   "id": "67d2dbea",
   "metadata": {},
   "outputs": [],
   "source": []
  }
 ],
 "metadata": {
  "kernelspec": {
   "display_name": "Python 3 (ipykernel)",
   "language": "python",
   "name": "python3"
  },
  "language_info": {
   "codemirror_mode": {
    "name": "ipython",
    "version": 3
   },
   "file_extension": ".py",
   "mimetype": "text/x-python",
   "name": "python",
   "nbconvert_exporter": "python",
   "pygments_lexer": "ipython3",
   "version": "3.9.6"
  }
 },
 "nbformat": 4,
 "nbformat_minor": 5
}

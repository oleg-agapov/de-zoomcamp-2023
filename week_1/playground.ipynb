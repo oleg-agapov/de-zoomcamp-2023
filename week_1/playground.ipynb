{
 "cells": [
  {
   "cell_type": "code",
   "execution_count": 1,
   "id": "c9c1d849",
   "metadata": {},
   "outputs": [],
   "source": [
    "import pandas as pd\n",
    "from sqlalchemy import create_engine"
   ]
  },
  {
   "cell_type": "code",
   "execution_count": 4,
   "id": "e3029308",
   "metadata": {},
   "outputs": [],
   "source": [
    "pg_url = 'postgresql://root:root@pg_database:5432/ny_taxi'\n",
    "\n",
    "def load_file(file_path: str, table_name: str, pg_url: str) -> None:\n",
    "    if file_path.endswith('.parquet'):\n",
    "        df = pd.read_parquet(file_path)\n",
    "    elif file_path.endswith('.csv') or file_path.endswith('.csv.gz'):\n",
    "        df = pd.read_csv(file_path)\n",
    "    else:\n",
    "        return\n",
    "    df.columns = [c.lower() for c in df.columns] # postgres doesn't like capitals or spaces\n",
    "    engine = create_engine(pg_url)\n",
    "    df.to_sql(name=table_name, con=engine, if_exists='replace', chunksize=100000)"
   ]
  },
  {
   "cell_type": "code",
   "execution_count": 5,
   "id": "a16d3ba7",
   "metadata": {},
   "outputs": [
    {
     "data": {
      "text/plain": [
       "<sqlalchemy.engine.base.Connection at 0x7f545faf9f70>"
      ]
     },
     "execution_count": 5,
     "metadata": {},
     "output_type": "execute_result"
    }
   ],
   "source": [
    "create_engine(pg_url).connect()"
   ]
  },
  {
   "cell_type": "code",
   "execution_count": 6,
   "id": "80d020ac",
   "metadata": {},
   "outputs": [
    {
     "name": "stdout",
     "output_type": "stream",
     "text": [
      "data_dictionary_trip_records_yellow.pdf  yellow_tripdata_2021-01.csv.gz\r\n",
      "green_tripdata_2019_01.csv.gz\t\t yellow_tripdata_2021_01.parquet\r\n",
      "taxi_zone_lookup.csv\r\n"
     ]
    }
   ],
   "source": [
    "!ls data"
   ]
  },
  {
   "cell_type": "code",
   "execution_count": 23,
   "id": "f44a3f27",
   "metadata": {},
   "outputs": [
    {
     "name": "stdout",
     "output_type": "stream",
     "text": [
      "   vendorid tpep_pickup_datetime tpep_dropoff_datetime  passenger_count  \\\n",
      "0         1  2021-01-01 00:30:10   2021-01-01 00:36:12              1.0   \n",
      "1         1  2021-01-01 00:51:20   2021-01-01 00:52:19              1.0   \n",
      "2         1  2021-01-01 00:43:30   2021-01-01 01:11:06              1.0   \n",
      "3         1  2021-01-01 00:15:48   2021-01-01 00:31:01              0.0   \n",
      "4         2  2021-01-01 00:31:49   2021-01-01 00:48:21              1.0   \n",
      "\n",
      "   trip_distance  ratecodeid store_and_fwd_flag  pulocationid  dolocationid  \\\n",
      "0           2.10         1.0                  N           142            43   \n",
      "1           0.20         1.0                  N           238           151   \n",
      "2          14.70         1.0                  N           132           165   \n",
      "3          10.60         1.0                  N           138           132   \n",
      "4           4.94         1.0                  N            68            33   \n",
      "\n",
      "   payment_type  fare_amount  extra  mta_tax  tip_amount  tolls_amount  \\\n",
      "0             2          8.0    3.0      0.5        0.00           0.0   \n",
      "1             2          3.0    0.5      0.5        0.00           0.0   \n",
      "2             1         42.0    0.5      0.5        8.65           0.0   \n",
      "3             1         29.0    0.5      0.5        6.05           0.0   \n",
      "4             1         16.5    0.5      0.5        4.06           0.0   \n",
      "\n",
      "   improvement_surcharge  total_amount  congestion_surcharge  airport_fee  \n",
      "0                    0.3         11.80                   2.5          NaN  \n",
      "1                    0.3          4.30                   0.0          NaN  \n",
      "2                    0.3         51.95                   0.0          NaN  \n",
      "3                    0.3         36.35                   0.0          NaN  \n",
      "4                    0.3         24.36                   2.5          NaN  \n"
     ]
    }
   ],
   "source": [
    "load_file('data/yellow_tripdata_2021_01.parquet', 'f_trip', pg_url)"
   ]
  },
  {
   "cell_type": "code",
   "execution_count": 24,
   "id": "de5af903",
   "metadata": {},
   "outputs": [
    {
     "name": "stdout",
     "output_type": "stream",
     "text": [
      "   locationid        borough                     zone service_zone\n",
      "0           1            EWR           Newark Airport          EWR\n",
      "1           2         Queens              Jamaica Bay    Boro Zone\n",
      "2           3          Bronx  Allerton/Pelham Gardens    Boro Zone\n",
      "3           4      Manhattan            Alphabet City  Yellow Zone\n",
      "4           5  Staten Island            Arden Heights    Boro Zone\n"
     ]
    }
   ],
   "source": [
    "load_file('data/taxi_zone_lookup.csv', 'd_zone', pg_url)"
   ]
  },
  {
   "cell_type": "code",
   "execution_count": 7,
   "id": "cf6e56a3",
   "metadata": {},
   "outputs": [],
   "source": [
    "load_file('data/green_tripdata_2019_01.csv.gz', 'green_tripdata_2019_01', pg_url)"
   ]
  },
  {
   "cell_type": "code",
   "execution_count": null,
   "id": "d5d8ce91",
   "metadata": {},
   "outputs": [],
   "source": []
  }
 ],
 "metadata": {
  "kernelspec": {
   "display_name": "Python 3 (ipykernel)",
   "language": "python",
   "name": "python3"
  },
  "language_info": {
   "codemirror_mode": {
    "name": "ipython",
    "version": 3
   },
   "file_extension": ".py",
   "mimetype": "text/x-python",
   "name": "python",
   "nbconvert_exporter": "python",
   "pygments_lexer": "ipython3",
   "version": "3.9.16"
  }
 },
 "nbformat": 4,
 "nbformat_minor": 5
}

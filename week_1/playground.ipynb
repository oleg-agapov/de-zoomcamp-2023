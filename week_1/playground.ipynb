{
 "cells": [
  {
   "cell_type": "code",
   "execution_count": 17,
   "id": "c9c1d849",
   "metadata": {},
   "outputs": [],
   "source": [
    "import pandas as pd\n",
    "from tqdm import tqdm\n",
    "from sqlalchemy import create_engine"
   ]
  },
  {
   "cell_type": "code",
   "execution_count": 36,
   "id": "e3029308",
   "metadata": {},
   "outputs": [],
   "source": [
    "pg_url = 'postgresql://root:root@pg_database:5432/ny_taxi'\n",
    "\n",
    "def chunker(df, size):\n",
    "    # from http://stackoverflow.com/a/434328\n",
    "    return (df[pos:pos + size] for pos in range(0, len(df), size))\n",
    "\n",
    "def insert_with_progress(df, table_name, con, mode=\"replace\"):\n",
    "    chunk_size = int(len(df) / 100)\n",
    "    with tqdm(total=len(df)) as progress_bar:\n",
    "        for i, _df in enumerate(chunker(df, chunk_size)):\n",
    "            _df.to_sql(con=con, name=table_name, if_exists=mode, index=False)\n",
    "            progress_bar.update(chunk_size)\n",
    "\n",
    "\n",
    "def load_file(file_path: str, table_name: str, pg_url: str) -> None:\n",
    "    if file_path.endswith('.parquet'):\n",
    "        df = pd.read_parquet(file_path)\n",
    "    elif file_path.endswith('.csv') or file_path.endswith('.csv.gz'):\n",
    "        df = pd.read_csv(file_path)\n",
    "    else:\n",
    "        return\n",
    "    df.columns = [c.lower() for c in df.columns] # postgres doesn't like capitals or spaces\n",
    "    engine = create_engine(pg_url)\n",
    "    insert_with_progress(df, table_name, engine)"
   ]
  },
  {
   "cell_type": "code",
   "execution_count": 31,
   "id": "a16d3ba7",
   "metadata": {},
   "outputs": [
    {
     "data": {
      "text/plain": [
       "<sqlalchemy.engine.base.Connection at 0xffff5017bf10>"
      ]
     },
     "execution_count": 31,
     "metadata": {},
     "output_type": "execute_result"
    }
   ],
   "source": [
    "create_engine(pg_url).connect()"
   ]
  },
  {
   "cell_type": "code",
   "execution_count": 32,
   "id": "80d020ac",
   "metadata": {},
   "outputs": [
    {
     "name": "stdout",
     "output_type": "stream",
     "text": [
      "data_dictionary_trip_records_yellow.pdf  yellow_tripdata_2021-01.csv.gz\r\n",
      "green_tripdata_2019_01.csv.gz\t\t yellow_tripdata_2021_01.parquet\r\n",
      "taxi_zone_lookup.csv\r\n"
     ]
    }
   ],
   "source": [
    "!ls data"
   ]
  },
  {
   "cell_type": "code",
   "execution_count": 33,
   "id": "f44a3f27",
   "metadata": {},
   "outputs": [
    {
     "name": "stderr",
     "output_type": "stream",
     "text": [
      "1383397it [02:00, 11442.51it/s]                             \n"
     ]
    }
   ],
   "source": [
    "load_file('data/yellow_tripdata_2021_01.parquet', 'yellow_tripdata_2021_01', pg_url)"
   ]
  },
  {
   "cell_type": "code",
   "execution_count": 34,
   "id": "de5af903",
   "metadata": {},
   "outputs": [
    {
     "name": "stderr",
     "output_type": "stream",
     "text": [
      "266it [00:04, 62.00it/s]                         \n"
     ]
    }
   ],
   "source": [
    "load_file('data/taxi_zone_lookup.csv', 'taxi_zone_lookup', pg_url)"
   ]
  },
  {
   "cell_type": "code",
   "execution_count": 35,
   "id": "cf6e56a3",
   "metadata": {},
   "outputs": [
    {
     "name": "stderr",
     "output_type": "stream",
     "text": [
      "637209it [01:01, 10288.13it/s]                            \n"
     ]
    }
   ],
   "source": [
    "load_file('data/green_tripdata_2019_01.csv.gz', 'green_tripdata_2019_01', pg_url)"
   ]
  },
  {
   "cell_type": "code",
   "execution_count": null,
   "id": "d5d8ce91",
   "metadata": {},
   "outputs": [],
   "source": []
  }
 ],
 "metadata": {
  "kernelspec": {
   "display_name": "Python 3 (ipykernel)",
   "language": "python",
   "name": "python3"
  },
  "language_info": {
   "codemirror_mode": {
    "name": "ipython",
    "version": 3
   },
   "file_extension": ".py",
   "mimetype": "text/x-python",
   "name": "python",
   "nbconvert_exporter": "python",
   "pygments_lexer": "ipython3",
   "version": "3.9.16"
  }
 },
 "nbformat": 4,
 "nbformat_minor": 5
}
